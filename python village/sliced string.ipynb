{
 "cells": [
  {
   "cell_type": "code",
   "execution_count": 1,
   "metadata": {},
   "outputs": [
    {
     "data": {
      "text/plain": [
       "'Saiga taezanowskyi'"
      ]
     },
     "execution_count": 1,
     "metadata": {},
     "output_type": "execute_result"
    }
   ],
   "source": [
    "#Given: A string s of length at most 200 letters and four integers a, b, c and d.\n",
    "# Return: The slice of this string from indices a\n",
    "# through b and c through d (with space in between), inclusively. \n",
    "# In other words, we should include elements s[b] and s[d] in our slice.\n",
    "\n",
    "def sliced_string(s,a,b,c,d):\n",
    "    return s[a:b+1]+\" \"+s[c:d+1]\n",
    "\n",
    "word = \"tus10GiWHXEy9fBz9ISqAH8KVD1nnMtZzbUpBQmaKrEf20PZySaigauInf5QQkI21U3taezanowskyi96R6L4TxEQZhM3mG2rM1yFpRfpK516Yf5HoghbbODzj6acHVmB6ylYodPv5ABv2tOUzc0vB4jDWkS1WPs3E0csCAU0XXwcOG2BYQE7NHRiQzJEytUZVQ.\"\n",
    "sliced_string(word,49,53,67,78)"
   ]
  }
 ],
 "metadata": {
  "kernelspec": {
   "display_name": "Python 3.9.12 ('base')",
   "language": "python",
   "name": "python3"
  },
  "language_info": {
   "codemirror_mode": {
    "name": "ipython",
    "version": 3
   },
   "file_extension": ".py",
   "mimetype": "text/x-python",
   "name": "python",
   "nbconvert_exporter": "python",
   "pygments_lexer": "ipython3",
   "version": "3.9.12"
  },
  "orig_nbformat": 4,
  "vscode": {
   "interpreter": {
    "hash": "a077222d77dfe082b8f1dd562ad70e458ac2ab76993a0b248ab0476e32e9e8dd"
   }
  }
 },
 "nbformat": 4,
 "nbformat_minor": 2
}
