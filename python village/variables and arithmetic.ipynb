{
 "cells": [
  {
   "cell_type": "code",
   "execution_count": null,
   "metadata": {},
   "outputs": [],
   "source": [
    "\n",
    "#Given: Two positive integers a and b each less than 1000.\n",
    "#Return: The integer corresponding to the square of the hypotenuse of the right triangle \n",
    "# whose legs have lengths a and b.\n",
    "\n",
    "def squa_hypotenuse(a,b):\n",
    "    while a and b <1000:\n",
    "        return a**2+b**2\n",
    "\n",
    "squa_hypotenuse(869,815)"
   ]
  }
 ],
 "metadata": {
  "kernelspec": {
   "display_name": "Python 3.9.12 ('base')",
   "language": "python",
   "name": "python3"
  },
  "language_info": {
   "name": "python",
   "version": "3.9.12"
  },
  "orig_nbformat": 4,
  "vscode": {
   "interpreter": {
    "hash": "a077222d77dfe082b8f1dd562ad70e458ac2ab76993a0b248ab0476e32e9e8dd"
   }
  }
 },
 "nbformat": 4,
 "nbformat_minor": 2
}
