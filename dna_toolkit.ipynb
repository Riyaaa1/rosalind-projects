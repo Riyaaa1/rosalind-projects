{
 "cells": [
  {
   "cell_type": "code",
   "execution_count": 14,
   "metadata": {},
   "outputs": [],
   "source": [
    "import collections\n",
    "import random\n",
    "\n",
    "Nucleotides =['A','T','G','C']\n",
    "\n",
    "# validate the sequence --- check if the given string is actually dna sequemce or not\n",
    "def val_seq(s):\n",
    "    dna= s.upper()\n",
    "    for nuc in dna:\n",
    "        if nuc not in Nucleotides:\n",
    "            return False\n",
    "    return dna\n",
    "\n"
   ]
  },
  {
   "cell_type": "code",
   "execution_count": 17,
   "metadata": {},
   "outputs": [
    {
     "name": "stdout",
     "output_type": "stream",
     "text": [
      "AGGGGTCTTCGAACA\n",
      "{'A': 4, 'G': 5, 'T': 3, 'C': 3}\n"
     ]
    }
   ],
   "source": [
    "# count nucleotide frequency:\n",
    "\n",
    "def count_nuc(seq):\n",
    "    #return seq.count(\"A\"),seq.count(\"T\"),seq.count(\"G\"),seq.count('C')\n",
    "    return dict(collections.Counter(seq))\n",
    "\n",
    "random_dna = \"\".join([random.choice(Nucleotides) for nuc in range(15)])\n",
    "\n",
    "print(val_seq(random_dna))\n",
    "print(count_nuc(random_dna))\n",
    "\n"
   ]
  },
  {
   "cell_type": "code",
   "execution_count": null,
   "metadata": {},
   "outputs": [],
   "source": [
    "# Given: A file containing at most 1000 lines.\n",
    "# Return: A file containing all the even-numbered lines from the original file. \n",
    "# Assume 1-based numbering of lines.\n",
    "\n",
    "file_name = \"words.txt\"\n",
    "file = open(file_name,'r')\n",
    "words = file.readlines()\n",
    "\n",
    "print(words)\n",
    "\n",
    "for i in range(len(words)):\n",
    "    if len(words[i])%2 ==0:\n",
    "        print(words[i])\n",
    "        new_text=\"\".join(words[i])\n",
    "        \n",
    "\n",
    "print(new_text)\n"
   ]
  }
 ],
 "metadata": {
  "kernelspec": {
   "display_name": "Python 3.9.12 ('base')",
   "language": "python",
   "name": "python3"
  },
  "language_info": {
   "codemirror_mode": {
    "name": "ipython",
    "version": 3
   },
   "file_extension": ".py",
   "mimetype": "text/x-python",
   "name": "python",
   "nbconvert_exporter": "python",
   "pygments_lexer": "ipython3",
   "version": "3.9.12"
  },
  "orig_nbformat": 4,
  "vscode": {
   "interpreter": {
    "hash": "a077222d77dfe082b8f1dd562ad70e458ac2ab76993a0b248ab0476e32e9e8dd"
   }
  }
 },
 "nbformat": 4,
 "nbformat_minor": 2
}
