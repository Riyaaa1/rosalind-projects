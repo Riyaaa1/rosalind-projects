{
 "cells": [
  {
   "cell_type": "code",
   "execution_count": 16,
   "metadata": {},
   "outputs": [
    {
     "name": "stdout",
     "output_type": "stream",
     "text": [
      "80\n",
      "43\n",
      "The percentage GC count in the given DNA string is 53.75\n"
     ]
    }
   ],
   "source": [
    "dna_string =\">Rosalind_6404CCTGCGGAAGATCGGCACTAGAATAGCCAGAACCGTTTCTCTGAGGCTTCCGGCCTTCCCTCCCACTAATAATTCTGAGG\".split(sep='>Rosalind_6404')\n",
    "total = 0\n",
    "gc_count = 0\n",
    "for i in dna_string[1]:\n",
    "    total +=1\n",
    "\n",
    "    if i =='C'or i == 'G':\n",
    "        gc_count+=1\n",
    "print(total)\n",
    "print(gc_count)\n",
    "print(\"The percentage GC count in the given DNA string is\",(gc_count/total)*100)\n",
    "\n",
    "   \n"
   ]
  }
 ],
 "metadata": {
  "kernelspec": {
   "display_name": "Python 3.9.12 ('base')",
   "language": "python",
   "name": "python3"
  },
  "language_info": {
   "codemirror_mode": {
    "name": "ipython",
    "version": 3
   },
   "file_extension": ".py",
   "mimetype": "text/x-python",
   "name": "python",
   "nbconvert_exporter": "python",
   "pygments_lexer": "ipython3",
   "version": "3.9.12"
  },
  "orig_nbformat": 4,
  "vscode": {
   "interpreter": {
    "hash": "a077222d77dfe082b8f1dd562ad70e458ac2ab76993a0b248ab0476e32e9e8dd"
   }
  }
 },
 "nbformat": 4,
 "nbformat_minor": 2
}
