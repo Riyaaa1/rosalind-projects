{
 "cells": [
  {
   "cell_type": "code",
   "execution_count": 33,
   "metadata": {},
   "outputs": [
    {
     "data": {
      "text/plain": [
       "'TGGCCCAAAA'"
      ]
     },
     "execution_count": 33,
     "metadata": {},
     "output_type": "execute_result"
    }
   ],
   "source": [
    "# Write a program to return the reverse complement of the given dna string\n",
    "def rev_complement(s):\n",
    "    for i in s:\n",
    "        if i=='A':\n",
    "            i='T'\n",
    "        elif i =='T':\n",
    "            i='A'\n",
    "        elif i == 'G':\n",
    "            i='C'\n",
    "        elif i=='C':\n",
    "            i='G'\n",
    "       \n",
    "    return s[::-1]\n",
    "\n",
    "string = 'AAAACCCGGT'\n",
    "rev_complement(string)"
   ]
  }
 ],
 "metadata": {
  "kernelspec": {
   "display_name": "Python 3.9.12 ('base')",
   "language": "python",
   "name": "python3"
  },
  "language_info": {
   "codemirror_mode": {
    "name": "ipython",
    "version": 3
   },
   "file_extension": ".py",
   "mimetype": "text/x-python",
   "name": "python",
   "nbconvert_exporter": "python",
   "pygments_lexer": "ipython3",
   "version": "3.9.12"
  },
  "orig_nbformat": 4,
  "vscode": {
   "interpreter": {
    "hash": "a077222d77dfe082b8f1dd562ad70e458ac2ab76993a0b248ab0476e32e9e8dd"
   }
  }
 },
 "nbformat": 4,
 "nbformat_minor": 2
}
